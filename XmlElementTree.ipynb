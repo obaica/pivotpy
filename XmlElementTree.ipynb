{
 "cells": [
  {
   "cell_type": "markdown",
   "metadata": {},
   "source": [
    "## Vasp2Visual in Pure Python"
   ]
  },
  {
   "cell_type": "code",
   "execution_count": null,
   "metadata": {},
   "outputs": [],
   "source": [
    "#export\n",
    "class Dic2Dot(dict):\n",
    "    \"\"\"\n",
    "    Returns dot notation accessible if a dictionary is input.\n",
    "    \"\"\"\n",
    "    def __getattr__(self, name):\n",
    "        return self[name]"
   ]
  },
  {
   "cell_type": "code",
   "execution_count": null,
   "metadata": {},
   "outputs": [],
   "source": [
    "def read_asxml(path='./vasprun.xml'):\n",
    "    import xml.etree.ElementTree as ET\n",
    "    if(not path):\n",
    "        print('vasprun.xml not found.')\n",
    "    else:\n",
    "        tree = ET.parse(path)\n",
    "        xml_data = tree.getroot()\n",
    "        return Dic2Dot({'xml': xml_data}) "
   ]
  },
  {
   "cell_type": "code",
   "execution_count": null,
   "metadata": {},
   "outputs": [],
   "source": [
    "def exclude_kpts(xml_data=read_asxml().xml):\n",
    "    for kpts in xml_data.iter('varray'):\n",
    "        if(kpts.attrib=={'name': 'weights'}):\n",
    "            weights=[float(arr.text.strip()) for arr in kpts.iter('v')]\n",
    "    exclude=[]\n",
    "    [exclude.append(item) for item in weights if item!=weights[-1]];\n",
    "    skipk=len(exclude) #that much to skip\n",
    "    return Dic2Dot({'skipk':skipk})"
   ]
  },
  {
   "cell_type": "code",
   "execution_count": null,
   "metadata": {},
   "outputs": [],
   "source": [
    "def get_ispin(xml_data=read_asxml().xml):\n",
    "    for item in xml_data.iter('i'):\n",
    "        if(item.attrib=={'type': 'int', 'name': 'ISPIN'}):\n",
    "            return Dic2Dot({'ISPIN':int(item.text)})"
   ]
  },
  {
   "cell_type": "code",
   "execution_count": null,
   "metadata": {},
   "outputs": [],
   "source": [
    "def get_summary(xml_data=read_asxml().xml):\n",
    "    for i_car in xml_data.iter('incar'):\n",
    "        incar={car.attrib['name']:car.text.strip() for car in i_car}\n",
    "    n_ions=[int(atom.text) for atom in xml_data.iter('atoms')][0]\n",
    "    type_ions=[int(atom_types.text) for atom_types in xml_data.iter('types')][0]\n",
    "    elem=[info[0].text.strip() for info in xml_data.iter('rc')]\n",
    "    elem_name=[]; #collect IONS names\n",
    "    [elem_name.append(item) for item in elem[:-type_ions] if item not in elem_name]  \n",
    "    elem_index=[0]; #start index\n",
    "    [elem_index.append((int(entry)+elem_index[-1])) for entry in elem[-type_ions:]];\n",
    "    ISPIN=get_ispin(xml_data=xml_data).ISPIN\n",
    "    #Writing information to a dictionary\n",
    "    info_dic={'SYSTEM':incar['SYSTEM'],'NION':n_ions,'TypeION':type_ions,'ElemName':elem_name,\\\n",
    "             'ElemIndex':elem_index,'ISPIN':ISPIN}\n",
    "    return Dic2Dot(info_dic)"
   ]
  },
  {
   "cell_type": "code",
   "execution_count": null,
   "metadata": {},
   "outputs": [],
   "source": [
    "def get_kpts(xml_data=read_asxml().xml,skipk=0):\n",
    "    import numpy as np\n",
    "    for kpts in xml_data.iter('varray'):\n",
    "        if(kpts.attrib=={'name': 'kpointlist'}):\n",
    "            kpoints=[[float(item) for item in arr.text.split()] for arr in kpts.iter('v')]\n",
    "    kpoints=np.array(kpoints[skipk:])\n",
    "    #KPath solved.\n",
    "    kpath=[0];pts=kpoints\n",
    "    [kpath.append(np.round(np.sqrt(np.sum((pt1-pt2)**2))+kpath[-1],6)) for pt1,pt2 in zip(pts[:-1],pts[1:])];\n",
    "    return Dic2Dot({'NKPTS':len(kpoints),'kpoints':kpoints,'kpath':kpath})"
   ]
  },
  {
   "cell_type": "code",
   "execution_count": null,
   "metadata": {},
   "outputs": [],
   "source": [
    "def get_tdos(xml_data=read_asxml().xml,spin_set=1,elim=[]):\n",
    "    import numpy as np #Mandatory to avoid errors.\n",
    "    tdos=[]; #assign for safely exit if wrong spin set entered.\n",
    "    ISPIN=get_ispin(xml_data=xml_data).ISPIN\n",
    "    for neighbor in xml_data.iter('dos'):\n",
    "        for item in neighbor[1].iter('set'):\n",
    "            if(ISPIN==1 and spin_set==1):\n",
    "                if(item.attrib=={'comment': 'spin 1'}):\n",
    "                    tdos=np.array([[float(entry) for entry in arr.text.split()] for arr in item])\n",
    "            if(ISPIN==2 and spin_set==1):\n",
    "                if(item.attrib=={'comment': 'spin 1'}):\n",
    "                    tdos_1=np.array([[float(entry) for entry in arr.text.split()] for arr in item])\n",
    "                if(item.attrib=={'comment': 'spin 2'}):\n",
    "                    tdos_2=np.array([[float(entry) for entry in arr.text.split()] for arr in item])\n",
    "                    tdos=Dic2Dot({'SpinUp':tdos_1,'SpinDown':tdos_2})\n",
    "            if(spin_set!=1): #can get any\n",
    "                if(item.attrib=={'comment': 'spin {}'.format(spin_set)}):\n",
    "                    tdos=np.array([[float(entry) for entry in arr.text.split()] for arr in item])\n",
    "    for i in xml_data.iter('i'):\n",
    "        if(i.attrib=={'name': 'efermi'}):\n",
    "            efermi=float(i.text)\n",
    "    dos_dic=Dic2Dot({'E_Fermi':efermi,'ISPIN':ISPIN,'tdos':tdos})       \n",
    "    #Filtering in energy range.\n",
    "    if elim: #check if elim not empty\n",
    "        if(ISPIN==1 and spin_set==1):\n",
    "            up_ind=np.max(np.where(tdos[:,0]-efermi<=np.max(elim)))+1\n",
    "            lo_ind=np.min(np.where(tdos[:,0]-efermi>=np.min(elim)))\n",
    "            tdos=tdos[lo_ind:up_ind,:]\n",
    "        if(ISPIN==2 and spin_set==1):\n",
    "            up_ind=np.max(np.where(tdos.SpinUp[:,0]-efermi<=np.max(elim)))+1\n",
    "            lo_ind=np.min(np.where(tdos.SpinUp[:,0]-efermi>=np.min(elim)))\n",
    "            tdos=Dic2Dot({'SpinUp':tdos_1[lo_ind:up_ind,:],'SpinDown':tdos_2[lo_ind:up_ind,:]})\n",
    "        if(spin_set!=1):\n",
    "            up_ind=np.max(np.where(tdos[:,0]-efermi<=np.max(elim)))+1\n",
    "            lo_ind=np.min(np.where(tdos[:,0]-efermi>=np.min(elim)))\n",
    "            tdos=tdos[lo_ind:up_ind,:]\n",
    "        dos_dic=Dic2Dot({'E_Fermi':efermi,'ISPIN':ISPIN,'grid_range':range(lo_ind,up_ind),'dos':tdos})\n",
    "    return dos_dic\n",
    "    "
   ]
  },
  {
   "cell_type": "code",
   "execution_count": null,
   "metadata": {},
   "outputs": [],
   "source": [
    "def get_evals(xml_data=read_asxml().xml,skipk=None,elim=[]):\n",
    "    import numpy as np #Mandatory to avoid errors.\n",
    "    evals=[]; #assign for safely exit if wrong spin set entered.\n",
    "    ISPIN=get_ispin(xml_data=xml_data).ISPIN\n",
    "    if skipk!=None:\n",
    "        skipk=skipk\n",
    "    else:\n",
    "        skipk=exclude_kpts(xml_data=xml_data).skipk #that much to skip by default\n",
    "    for neighbor in xml_data.iter('eigenvalues'):\n",
    "            for item in neighbor[0].iter('set'):\n",
    "                if(ISPIN==1):\n",
    "                    if(item.attrib=={'comment': 'spin 1'}):\n",
    "                        evals=np.array([[float(th.text.split()[0]) for th in thing] for thing in item])[skipk:]\n",
    "                        NBANDS=len(evals[0])\n",
    "                if(ISPIN==2):\n",
    "                    if(item.attrib=={'comment': 'spin 1'}):\n",
    "                        eval_1=np.array([[float(th.text.split()[0]) for th in thing] for thing in item])[skipk:]\n",
    "                    if(item.attrib=={'comment': 'spin 2'}):\n",
    "                        eval_2=np.array([[float(th.text.split()[0]) for th in thing] for thing in item])[skipk:]\n",
    "                        evals=Dic2Dot({'SpinUp':eval_1,'SpinDown':eval_2})\n",
    "                        NBANDS=len(eval_1[0])\n",
    "    \n",
    "    for i in xml_data.iter('i'): #efermi for condition required.\n",
    "        if(i.attrib=={'name': 'efermi'}):\n",
    "            efermi=float(i.text)\n",
    "    evals_dic=Dic2Dot({'E_Fermi':efermi,'ISPIN':ISPIN,'NBANDS':NBANDS,'evals':evals})\n",
    "    if elim: #check if elim not empty\n",
    "        if(ISPIN==1):\n",
    "            up_ind=np.max(np.where(evals[:,:]-efermi<=np.max(elim))[1])+1\n",
    "            lo_ind=np.min(np.where(evals[:,:]-efermi>=np.min(elim))[1])\n",
    "            evals=evals[:,lo_ind:up_ind]\n",
    "        if(ISPIN==2):\n",
    "            up_ind=np.max(np.where(eval_1[:,:]-efermi<=np.max(elim))[1])+1\n",
    "            lo_ind=np.min(np.where(eval_1[:,:]-efermi>=np.min(elim))[1])\n",
    "            evals=Dic2Dot({'SpinUp':eval_1[:,lo_ind:up_ind],'SpinDown':eval_2[:,lo_ind:up_ind]})\n",
    "        NBANDS=up_ind-lo_ind #update Bands\n",
    "        evals_dic=Dic2Dot({'E_Fermi':efermi,'ISPIN':ISPIN,'NBANDS': NBANDS,'bands_range':range(lo_ind,up_ind),'evals':evals})\n",
    "    return evals_dic"
   ]
  },
  {
   "cell_type": "code",
   "execution_count": null,
   "metadata": {},
   "outputs": [],
   "source": []
  },
  {
   "cell_type": "code",
   "execution_count": null,
   "metadata": {},
   "outputs": [],
   "source": []
  },
  {
   "cell_type": "code",
   "execution_count": null,
   "metadata": {},
   "outputs": [],
   "source": [
    "def get_bands_pro_set(xml_data=read_asxml().xml,spin_set=1,skipk=0,bands_range=None):\n",
    "    \n",
    "    import numpy as np\n",
    "    #Collect Projection fields\n",
    "    fields=[];\n",
    "    for pro in xml_data.iter('projected'):\n",
    "        for arr in pro.iter('field'):\n",
    "            if('eig' not in arr.text and 'occ' not in arr.text):\n",
    "                fields.append(arr.text.strip())\n",
    "    #Get NIONS for reshaping data\n",
    "    n_ions=[int(atom.text) for atom in xml_data.iter('atoms')][0]\n",
    "    #check if bands_range provided. if not get all bands in projection.\n",
    "    if bands_range==None:\n",
    "        NBANDS=get_evals(xml_data=xml_data,skipk=skipk).NBANDS\n",
    "        bands_range=range(0,NBANDS)\n",
    "    else:\n",
    "        bands_range=bands_range\n",
    "        \n",
    "    bands=[];bands_range=[ind+1 for ind in bands_range];\n",
    "    for i in bands_range: #Bands loop.index written from 1.\n",
    "        pro=[];\n",
    "        for spin in xml_data.iter('set'):\n",
    "            if(spin.attrib=={'comment': 'spin{}'.format(spin_set)}):\n",
    "                for band in spin.iter('set'):\n",
    "                    if(band.attrib=={'comment': 'band {}'.format(i)}):\n",
    "                        for r in band.iter('r'):\n",
    "                            pro.append(r.text)\n",
    "        bands.append(pro)                           \n",
    "    flist=[[[float(item) for item in entry.split()] for entry in pro] for pro in bands] \n",
    "    #data shape is (NION,NKPTS,NBANDS,nProjections)\n",
    "    data=np.reshape(flist,(len(flist),-1,n_ions,len(fields))).transpose([2,1,0,3])\n",
    "    final_data=data[:,skipk:,:,:] #skip useless kpoints\n",
    "    return Dic2Dot({'labels':fields,'pros':final_data})"
   ]
  },
  {
   "cell_type": "code",
   "execution_count": null,
   "metadata": {},
   "outputs": [],
   "source": [
    "def get_dos_pro_set(xml_data=read_asxml().xml,spin_set=1,dos_range=None):\n",
    "\n",
    "    import numpy as np\n",
    "    type_ion=get_summary(xml_data=xml_data).TypeION   \n",
    "    for pro in xml_data.iter('partial'):\n",
    "        dos_fields=[field.text.strip()for field in pro.iter('field')]\n",
    "        #Collecting projections.\n",
    "        dos_pro=[]; set_pro=[]; #set_pro=[] in case spin set does not exists\n",
    "        for ion in range(type_ion):\n",
    "            for node in pro.iter('set'):      \n",
    "                if(node.attrib=={'comment': 'ion {}'.format(ion+1)}):\n",
    "                    for spin in node.iter('set'):\n",
    "                        if(spin.attrib=={'comment': 'spin {}'.format(spin_set)}):\n",
    "                            set_pro=[[float(entry) for entry in r.text.split()] for r in spin.iter('r')]\n",
    "            dos_pro.append(set_pro)\n",
    "    if dos_range==None: #full grid computed.\n",
    "        dos_pro=np.array(dos_pro) #shape(NION,e_grid,pro_fields)\n",
    "    else:\n",
    "        dos_range=list(dos_range)\n",
    "        min_ind=dos_range[0]\n",
    "        max_ind=dos_range[-1]+1 \n",
    "        dos_pro=np.array(dos_pro)[:,min_ind:max_ind,:]\n",
    "    final_data=np.array(dos_pro) #shape(NION,e_grid,pro_fields)\n",
    "    return Dic2Dot({'labels':dos_fields,'pros':final_data})"
   ]
  },
  {
   "cell_type": "code",
   "execution_count": null,
   "metadata": {},
   "outputs": [],
   "source": [
    "def get_structure(xml_data=read_asxml().xml):\n",
    "    import numpy as np\n",
    "    for final in xml_data.iter('structure'):\n",
    "        if(final.attrib=={'name': 'finalpos'}):\n",
    "            for i in final.iter('i'):\n",
    "                volume=float(i.text)\n",
    "            for arr in final.iter('varray'):\n",
    "                if(arr.attrib=={'name': 'basis'}):\n",
    "                    basis=[[float(a) for a in v.text.split()] for v in arr.iter('v')]\n",
    "                if(arr.attrib=={'name': 'rec_basis'}):\n",
    "                    rec_basis=[[float(a) for a in v.text.split()] for v in arr.iter('v')]\n",
    "                if(arr.attrib=={'name': 'positions'}):\n",
    "                    positions=[[float(a) for a in v.text.split()] for v in arr.iter('v')]\n",
    "    st_dic={'volume': volume,'basis': np.array(basis),'rec_basis': np.array(rec_basis),'positions': np.array(positions)}\n",
    "    return Dic2Dot(st_dic)"
   ]
  },
  {
   "cell_type": "code",
   "execution_count": null,
   "metadata": {},
   "outputs": [],
   "source": [
    "def export_vasprun(xml_data=read_asxml().xml,skipk=None,elim=[]):\n",
    "    \"\"\"\n",
    "    Iput: read_asxml().xml object.\n",
    "    Output: A dictionary accessible via dot notation containing objects:\n",
    "        sys_info: System Information\n",
    "        kpoints: numpy array of kpoints with excluded IBZKPT points\n",
    "        kpath: 1D numpy array directly accessible for plot.\n",
    "        evals: Dictionary.\n",
    "        tdos: Dictionary.\n",
    "        incar: INCAR file as dictionary accessible via dot notation.\n",
    "        xml: xml root object which is iterable over nodes using xml.iter('node').\n",
    "    \"\"\"\n",
    "    import numpy as np\n",
    "    #First exclude unnecessary kpoints. Includes only same weight points\n",
    "    if skipk!=None:\n",
    "        skipk=skipk\n",
    "    else:\n",
    "        skipk=exclude_kpts(xml_data=xml_data).skipk #that much to skip by default\n",
    "    info_dic=get_summary(xml_data=xml_data) #Reads important information of system.\n",
    "    #KPOINTS\n",
    "    kpts=get_kpts(xml_data=xml_data,skipk=skipk)\n",
    "    #EIGENVALS\n",
    "    eigenvals=get_evals(xml_data=xml_data,skipk=skipk,elim=elim)\n",
    "    #TDOS\n",
    "    tot_dos=get_tdos(xml_data=xml_data,spin_set=1,elim=elim)\n",
    "    #Bands and DOS Projection\n",
    "    if elim:\n",
    "        bands_range=eigenvals.bands_range\n",
    "        grid_range=tot_dos.grid_range\n",
    "    else:\n",
    "        bands_range=None #projection function will read itself.\n",
    "        grid_range=None\n",
    "    if(info_dic.ISPIN==1):\n",
    "        pro_bands=get_bands_pro_set(xml_data=xml_data,spin_set=1,skipk=skipk,bands_range=bands_range)\n",
    "        pro_dos=get_dos_pro_set(xml_data=xml_data,spin_set=1,dos_range=grid_range)\n",
    "    if(info_dic.ISPIN==2):\n",
    "        pro_1=get_bands_pro_set(xml_data=xml_data,spin_set=1,skipk=skipk,bands_range=bands_range)\n",
    "        pro_2=get_bands_pro_set(xml_data=xml_data,spin_set=2,skipk=skipk,bands_range=bands_range)\n",
    "        pros=Dic2Dot({'SpinUp': pro_1.pros,'SpinDown': pro_2.pros}) #accessing spins in dictionary after .pro.\n",
    "        pro_bands=Dic2Dot({'labels':pro_1.labels,'pros': pros})\n",
    "        pdos_1=get_dos_pro_set(xml_data=xml_data,spin_set=1,dos_range=grid_range)\n",
    "        pdos_2=get_dos_pro_set(xml_data=xml_data,spin_set=1,dos_range=grid_range)\n",
    "        pdos=Dic2Dot({'SpinUp': pdos_1.pros,'SpinDown': pdos_2.pros}) #accessing spins in dictionary after .pro.\n",
    "        pro_dos=Dic2Dot({'labels':pdos_1.labels,'pros': pdos})\n",
    "  \n",
    "    #Structure\n",
    "    poscar=get_structure(xml_data=xml_data)\n",
    "    #Dimensions dictionary.\n",
    "    dim_dic=Dic2Dot({'kpoints':'(NKPTS,3)','kpath':'(NKPTS,1)','bands':'(NKPTS,NBANDS)',\\\n",
    "                     'dos':'(grid_size,3)','pro_dos':'(NION,grid_size,en+pro_fields)',\\\n",
    "                     'pro_bands':'(NION,NKPTS,NBANDS,pro_fields)'})\n",
    "    #Writing everything to be accessible via dot notation\n",
    "    full_dic={'sys_info':Dic2Dot(info_dic),'dim_info':dim_dic,'kpoints':kpts.kpoints,'kpath':kpts.kpath,'bands':eigenvals,\n",
    "             'tdos':tot_dos,'pro_bands':pro_bands,'pro_dos':pro_dos,'poscar': poscar,'xml':xml_data}\n",
    "    return Dic2Dot(full_dic)"
   ]
  },
  {
   "cell_type": "code",
   "execution_count": null,
   "metadata": {},
   "outputs": [],
   "source": [
    "#xml_data=read_asxml('C:/Users/mass_/Desktop/GaAs/SO/ISPIN_2/ISPIN_2vasprun.xml').xml\n",
    "xml_data=read_asxml('./vasprun.xml').xml\n",
    "#xml_data=read_asxml('E:/Research/III_V_Interface/All_Interfaces/AlAs_Bi/Bi_doped/Normal/vasprun.xml').xml"
   ]
  },
  {
   "cell_type": "code",
   "execution_count": null,
   "metadata": {},
   "outputs": [],
   "source": [
    "\n",
    "vr=export_vasprun(xml_data=xml_data,elim=[-10,10])"
   ]
  },
  {
   "cell_type": "code",
   "execution_count": null,
   "metadata": {},
   "outputs": [],
   "source": [
    "\n",
    "import matplotlib.pyplot as plt\n",
    "plt.plot(vr.tdos.dos[:,0]-vr.tdos.E_Fermi,vr.tdos.dos[:,1],'r');\n",
    "#plt.plot(vr.tdos.dos.SpinDown[:,0]-vr.tdos.E_Fermi,-vr.tdos.dos.SpinDown[:,1],'b--');\n",
    "#plt.plot(vr.tdos.dos.SpinDown[:,0]-vr.tdos.E_Fermi,vr.tdos.dos.SpinUp[:,1]-vr.tdos.dos.SpinDown[:,1],'g');\n",
    "#plt.plot(vr.kpath,vr.bands.evals.SpinDown,'r--');"
   ]
  },
  {
   "cell_type": "code",
   "execution_count": null,
   "metadata": {},
   "outputs": [],
   "source": [
    "#import xml.etree.ElementTree as ET\n",
    "#tree = ET.parse('./vasprun.xml')\n",
    "#xml_data = tree.getroot()\n"
   ]
  },
  {
   "cell_type": "code",
   "execution_count": null,
   "metadata": {},
   "outputs": [],
   "source": [
    "import ps2py as pp"
   ]
  },
  {
   "cell_type": "code",
   "execution_count": null,
   "metadata": {},
   "outputs": [],
   "source": [
    "#%%timeit\n",
    "#pp.ps_to_py(ps_command='Export-VaspRun')"
   ]
  },
  {
   "cell_type": "code",
   "execution_count": null,
   "metadata": {},
   "outputs": [],
   "source": [
    "#pp.ps_to_std(ps_command='Get-Childitem -r')"
   ]
  },
  {
   "cell_type": "code",
   "execution_count": null,
   "metadata": {},
   "outputs": [],
   "source": [
    "#Lattice Plot\n",
    "import numpy as np \n",
    "b=vr.poscar.basis\n",
    "pos=vr.poscar.positions\n",
    "ind=vr.sys_info.ElemIndex\n",
    "name=vr.sys_info.ElemName\n",
    "path=pos\n",
    "surf1=[[1,1,1],[1,0,1],[1,0,0],[1,1,0]]\n",
    "surf2=[[1,1,1],[1,1,0],[0,1,0],[0,1,1]]\n",
    "surf3=[[1,1,1],[1,0,1],[0,1,1],[0,0,1]]\n",
    "x=[np.dot(b[0],pt) for pt in path]\n",
    "y=[np.dot(b[1],pt) for pt in path]\n",
    "z=[np.dot(b[2],pt) for pt in path]\n",
    "pos_round=[[str(np.round(i,3)) for i in item] for item in pos]\n",
    "text=[','.join(item) for item in pos_round]\n",
    "import plotly.graph_objects as go\n",
    "fig=go.Figure()\n",
    "\n",
    "fig.add_trace(go.Scatter3d(x=[np.dot(b[0],pt) for pt in surf1],\n",
    "                           y=[np.dot(b[0]*[0,1,0],pt) for pt in surf1], \n",
    "                           z=[np.dot(b[0]*[0,0,1],pt) for pt in surf1],\n",
    "                           surfaceaxis=1,surfacecolor='green',mode='none',showlegend = False,hoverinfo='none',opacity=0.4))\n",
    "fig.add_trace(go.Scatter3d(x=[np.dot(b[1]*[1,0,0],pt) for pt in surf2],\n",
    "                           y=[np.dot(b[1],pt) for pt in surf2], \n",
    "                           z=[np.dot(b[1]*[0,0,1],pt) for pt in surf2],\n",
    "                           surfaceaxis=1,surfacecolor='red',mode='none',showlegend = False,hoverinfo='none',opacity=0.4))\n",
    "fig.add_trace(go.Scatter3d(x=[np.dot(b[2]*[1,0,0],pt) for pt in surf3],\n",
    "                           y=[np.dot(b[2]*[0,1,0],pt) for pt in surf3], \n",
    "                           z=[np.dot(b[2],pt) for pt in surf3],\n",
    "                           surfaceaxis=1,surfacecolor='blue',mode='none',showlegend = False,hoverinfo='none',opacity=0.4))\n",
    "fig.add_trace(go.Scatter3d(x=[0,b[0,0]], y=[0,b[0,1]], z=[0,b[0,2]],mode='lines',name='a<sub>1</sub>'))\n",
    "fig.add_trace(go.Scatter3d(x=[0,b[1,0]], y=[0,b[1,1]], z=[0,b[1,2]],mode='lines',name='a<sub>2</sub>'))\n",
    "fig.add_trace(go.Scatter3d(x=[0,b[2,0]], y=[0,b[2,1]], z=[0,b[2,2]],mode='lines',name='a<sub>3</sub>'))\n",
    "for i in range(len(name)):\n",
    "    st=ind[i];end=ind[i+1];n=name[i];\n",
    "    fig.add_trace(go.Scatter3d(x=x[st:end], y=y[st:end], z=z[st:end],name='{}'.format(n),mode='markers',\n",
    "                              hovertext=text[st:end]))\n",
    "\n",
    "fig.update_layout(scene=dict(xaxis_showspikes=True,xaxis_backgroundcolor=\"rgb(200, 200, 230)\",\n",
    "                             yaxis_showspikes=True,yaxis_backgroundcolor=\"rgb(200, 200, 230)\",\n",
    "                             zaxis_backgroundcolor=\"rgb(200, 200, 230)\"),\n",
    "                 width=500,height=430\n",
    "                 )\n",
    "\n",
    "fig.show()"
   ]
  },
  {
   "cell_type": "code",
   "execution_count": null,
   "metadata": {},
   "outputs": [],
   "source": [
    "#from IPython.display import IFrame\n",
    "#IFrame(src= \"http://localhost:8888/notebooks/XmlElementTree.ipynb\", width=\"100%\", height=\"950px\",frameBorder=\"0\")"
   ]
  }
 ],
 "metadata": {
  "kernelspec": {
   "display_name": "Python 3",
   "language": "python",
   "name": "python3"
  },
  "language_info": {
   "codemirror_mode": {
    "name": "ipython",
    "version": 3
   },
   "file_extension": ".py",
   "mimetype": "text/x-python",
   "name": "python",
   "nbconvert_exporter": "python",
   "pygments_lexer": "ipython3",
   "version": "3.7.6"
  },
  "nteract": {
   "version": "0.22.0"
  }
 },
 "nbformat": 4,
 "nbformat_minor": 4
}
