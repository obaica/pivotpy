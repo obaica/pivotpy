{
 "cells": [
  {
   "cell_type": "code",
   "execution_count": null,
   "metadata": {},
   "outputs": [],
   "source": [
    "# default_exp g_utils"
   ]
  },
  {
   "cell_type": "markdown",
   "metadata": {},
   "source": [
    "# pivotpy\n",
    "\n",
    "> API details."
   ]
  },
  {
   "cell_type": "code",
   "execution_count": null,
   "metadata": {},
   "outputs": [],
   "source": [
    "#hide\n",
    "from nbdev.showdoc import *"
   ]
  },
  {
   "cell_type": "code",
   "execution_count": null,
   "metadata": {},
   "outputs": [],
   "source": [
    "#export\n",
    "def interpolate_data(x,y,n=10,k=3):\n",
    "    \"\"\"\n",
    "    x: 1D array of size p\n",
    "    y: ndarray of size p,q,r,....\n",
    "    n: Number of points to add between two given points.\n",
    "    k: Polynomial order to interpolate.\n",
    "\n",
    "    Only axis 0 will be interpolated. If you want general interploation, use\n",
    "    `from scipy.interpolate import make_interp_spline, BSpline`\n",
    "\n",
    "    General Usage: K(p),E(p,q) input from bandstructure.\n",
    "    Knew,Enew= interpolate_data(K,E,n=10,k=3) #cubic interploation\n",
    "    \"\"\"\n",
    "    import numpy as np\n",
    "    from scipy.interpolate import make_interp_spline, BSpline\n",
    "    xnew=[np.linspace(x[i],x[i+1],n) for i in range(len(x)-1)]\n",
    "    xnew=np.reshape(xnew,(-1))\n",
    "    spl = make_interp_spline(x, y, k=k) #BSpline object\n",
    "    ynew = spl(xnew)\n",
    "    return xnew,ynew"
   ]
  },
  {
   "cell_type": "code",
   "execution_count": null,
   "metadata": {},
   "outputs": [],
   "source": [
    "#export\n",
    "def ps_to_py(path_to_ps='powershell.exe', exec_type='-Command',ps_command='Get-ChildItem'):\n",
    "    \"\"\"\n",
    "    Captures powershell output in python.\n",
    "    Parameters:\n",
    "            path_to_ps: path to powerhell.exe if not added to PATH variables.\n",
    "            exec_type: type of execution, default '-Command', could be '-File'.\n",
    "            ps_command: enclose ps_command in ' ' or \" \".\n",
    "    \"\"\"\n",
    "    from subprocess import Popen, PIPE\n",
    "    cmd = [path_to_ps, '-ExecutionPolicy', 'Bypass', exec_type, ps_command]\n",
    "    proc = Popen(cmd, stdout=PIPE, stderr=PIPE)\n",
    "    out=[]; #save to out.\n",
    "    while True:\n",
    "        line = proc.stdout.readline()\n",
    "        if line!=b'':\n",
    "            line=line.strip()\n",
    "            u_line=line.decode(\"utf-8\")\n",
    "            out.append(u_line)\n",
    "        else:\n",
    "            break\n",
    "    out=[item for item in out if item!=''] #filter out empty lines\n",
    "    return out"
   ]
  },
  {
   "cell_type": "code",
   "execution_count": null,
   "metadata": {},
   "outputs": [],
   "source": [
    "#export\n",
    "def ps_to_std(path_to_ps='powershell.exe',\n",
    "                 exec_type='-Command',ps_command='Get-ChildItem'):\n",
    "    \"\"\"\n",
    "    Prints powershell output in python std.\n",
    "    Parameters:\n",
    "            path_to_ps: path to powerhell.exe if not added to PATH variables.\n",
    "            exec_type: type of execution, default '-Command', could be '-File'.\n",
    "            ps_command: enclose ps_command in ' ' or \" \".\n",
    "    \"\"\"\n",
    "    out=ps_to_py(path_to_ps=path_to_ps,exec_type=exec_type,ps_command=ps_command)\n",
    "    for item in out:\n",
    "        print(item)\n",
    "    return None"
   ]
  },
  {
   "cell_type": "markdown",
   "metadata": {},
   "source": [
    "## Usage Examples\n",
    "`ps_to_std()` only outputs returns of powershell to python std.\n",
    "`ps_to_py()`'s return could be manipulated in python."
   ]
  },
  {
   "cell_type": "code",
   "execution_count": null,
   "metadata": {},
   "outputs": [
    {
     "name": "stdout",
     "output_type": "stream",
     "text": [
      "Handles  NPM(K)    PM(K)      WS(K)     CPU(s)     Id  SI ProcessName\n",
      "-------  ------    -----      -----     ------     --  -- -----------\n",
      "560      49    39564      75824      17.38  16184   1 AltC\n",
      "271      17     6072      24920       1.67   6776   1 ApplicationFrameHost\n",
      "147       9     1432       5860              5320   0 armsvc\n",
      "416      22   300176      39328       7.36   3556   0 audiodg\n",
      "331      17     4656       6532       2.19  14560   1 CastSrv\n"
     ]
    }
   ],
   "source": [
    "ps_to_std(ps_command='(Get-Process)[0..4]')"
   ]
  },
  {
   "cell_type": "code",
   "execution_count": null,
   "metadata": {},
   "outputs": [
    {
     "data": {
      "text/plain": [
       "'563      49    39492      75792      17.39  16184   1 AltC'"
      ]
     },
     "execution_count": null,
     "metadata": {},
     "output_type": "execute_result"
    }
   ],
   "source": [
    "pp=ps_to_py(ps_command='(Get-Process)[0..4]')\n",
    "pp[2]"
   ]
  },
  {
   "cell_type": "code",
   "execution_count": null,
   "metadata": {},
   "outputs": [],
   "source": []
  }
 ],
 "metadata": {
  "kernelspec": {
   "display_name": "Python 3",
   "language": "python",
   "name": "python3"
  }
 },
 "nbformat": 4,
 "nbformat_minor": 4
}
